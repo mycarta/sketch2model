{
 "cells": [
  {
   "cell_type": "markdown",
   "metadata": {},
   "source": [
    "# Morphological closing to link edges."
   ]
  },
  {
   "cell_type": "markdown",
   "metadata": {},
   "source": [
    "Goal of this notebook is to explain visually the morphological sequence:\n",
    "\n",
    "dilation + erosion = closing\n",
    "\n",
    "Before continuing with this notebook, I'd recommend reading about morphological erosion, dilation, and closing on the Scikit-image website:\n",
    "\n",
    "http://scikit-image.org/docs/dev/auto_examples/applications/plot_morphology\n",
    "\n",
    "and on the imagemagik user guide: \n",
    "\n",
    "http://www.imagemagick.org/Usage/morphology/#dilate\n",
    "\n",
    "http://www.imagemagick.org/Usage/morphology/#erode\n",
    "\n",
    "http://www.imagemagick.org/Usage/morphology/#close\n",
    "\n",
    "When applying closing to a binary image, the external points in any object in the input image will be left unchanged in the output, but indentations will be smoothed and holes closed, partially or completely. Disconnected objects like edges (or lines in sketches) that are close, can become connected.\n",
    "\n",
    "We will now demonstrate it."
   ]
  },
  {
   "cell_type": "markdown",
   "metadata": {},
   "source": [
    "Let's start with importing some libraries:"
   ]
  },
  {
   "cell_type": "code",
   "execution_count": 1,
   "metadata": {
    "collapsed": false
   },
   "outputs": [],
   "source": [
    "import numpy as np\n",
    "import matplotlib.pyplot as plt\n",
    "from skimage.morphology import disk, octagon, dilation, closing, erosion\n",
    "from copy import deepcopy\n",
    "%matplotlib inline"
   ]
  },
  {
   "cell_type": "markdown",
   "metadata": {},
   "source": [
    "The first thing to do is to load some made-up edges, not connected, and plotting them:"
   ]
  },
  {
   "cell_type": "code",
   "execution_count": 2,
   "metadata": {
    "collapsed": false
   },
   "outputs": [],
   "source": [
    "edges = 1 - np.loadtxt('edges.txt', delimiter=',')"
   ]
  },
  {
   "cell_type": "code",
   "execution_count": 3,
   "metadata": {
    "collapsed": false,
    "scrolled": true
   },
   "outputs": [
    {
     "data": {
      "text/plain": [
       "[]"
      ]
     },
     "execution_count": 3,
     "metadata": {},
     "output_type": "execute_result"
    },
    {
     "data": {
      "image/png": "[encoded data removed]",
      "text/plain": [
       "<matplotlib.figure.Figure at 0x110f70550>"
      ]
     },
     "metadata": {},
     "output_type": "display_data"
    }
   ],
   "source": [
    "fig = plt.figure(figsize=(5, 5))\n",
    "ax = fig.add_subplot(1, 1, 1)\n",
    "\n",
    "plt.imshow(edges, cmap='gray', interpolation = 'none')\n",
    "\n",
    "ax.set_xticks([])\n",
    "ax.set_yticks([])\n",
    "\n",
    "#fig.savefig('edges.png', dpi=200, bbox_inches='tight', pad_inches=0)"
   ]
  },
  {
   "cell_type": "markdown",
   "metadata": {},
   "source": [
    "And now we want to link these edges using morphological closing (equivalent todilation followed by erosion) with a disk-shaped structuring element of size 2."
   ]
  },
  {
   "cell_type": "code",
   "execution_count": 4,
   "metadata": {
    "collapsed": false
   },
   "outputs": [
    {
     "data": {
      "text/plain": [
       "[]"
      ]
     },
     "execution_count": 4,
     "metadata": {},
     "output_type": "execute_result"
    },
    {
     "data": {
      "image/png": "[encoded data removed]",
      "text/plain": [
       "<matplotlib.figure.Figure at 0x110f8fad0>"
      ]
     },
     "metadata": {},
     "output_type": "display_data"
    }
   ],
   "source": [
    "closed = closing(edges, disk(2))\n",
    "\n",
    "fig = plt.figure(figsize=(5, 5))\n",
    "ax = fig.add_subplot(1, 1, 1)\n",
    "\n",
    "plt.imshow(closed, cmap='gray', interpolation = 'none')\n",
    "\n",
    "ax.set_xticks([])\n",
    "ax.set_yticks([])\n",
    "\n",
    "#fig.savefig('closed_edges.png', dpi=200, bbox_inches='tight', pad_inches=0)"
   ]
  },
  {
   "cell_type": "markdown",
   "metadata": {},
   "source": [
    "It worked!"
   ]
  },
  {
   "cell_type": "markdown",
   "metadata": {},
   "source": [
    "Question: wat happens with a smaller structuring element?"
   ]
  },
  {
   "cell_type": "code",
   "execution_count": 5,
   "metadata": {
    "collapsed": false
   },
   "outputs": [
    {
     "data": {
      "text/plain": [
       "[]"
      ]
     },
     "execution_count": 5,
     "metadata": {},
     "output_type": "execute_result"
    },
    {
     "data": {
      "image/png": "[encoded data removed]",
      "text/plain": [
       "<matplotlib.figure.Figure at 0x111584c90>"
      ]
     },
     "metadata": {},
     "output_type": "display_data"
    }
   ],
   "source": [
    "not_closed = closing(edges, disk(1))\n",
    "\n",
    "fig = plt.figure(figsize=(5, 5))\n",
    "ax = fig.add_subplot(1, 1, 1)\n",
    "\n",
    "plt.imshow(not_closed, cmap='gray', interpolation = 'none')\n",
    "\n",
    "ax.set_xticks([])\n",
    "ax.set_yticks([])\n",
    "\n",
    "#fig.savefig('non_closed_edges.png', dpi=200, bbox_inches='tight', pad_inches=0)"
   ]
  },
  {
   "cell_type": "markdown",
   "metadata": {},
   "source": [
    "This time the closing magic did not happen, and in the remainder of the notebook I want to illustrate visually why it did not.\n",
    "\n",
    "Let's begin by breaking down the closing into its component dilation and erosion, and plot step by step what happens:"
   ]
  },
  {
   "cell_type": "code",
   "execution_count": 6,
   "metadata": {
    "collapsed": false
   },
   "outputs": [
    {
     "data": {
      "image/png": "[encoded data removed]",
      "text/plain": [
       "<matplotlib.figure.Figure at 0x111709450>"
      ]
     },
     "metadata": {},
     "output_type": "display_data"
    }
   ],
   "source": [
    "one = dilation(edges, disk(1))\n",
    "two = erosion(one, disk(1))\n",
    "\n",
    "fig = plt.figure(figsize=(15, 5))\n",
    "ax = fig.add_subplot(1, 3, 1)\n",
    "plt.imshow(edges, cmap='gray', interpolation = 'none')\n",
    "ax.set_xticks([])\n",
    "ax.set_yticks([])\n",
    "\n",
    "ax1 = fig.add_subplot(1, 3, 2)\n",
    "plt.imshow(one, cmap='gray', interpolation = 'none')\n",
    "ax1.set_xticks([])\n",
    "ax1.set_yticks([])\n",
    "\n",
    "ax2 = fig.add_subplot(1, 3, 3)\n",
    "plt.imshow(two, cmap='gray', interpolation = 'none')\n",
    "ax2.set_xticks([])\n",
    "ax2.set_yticks([])\n",
    "plt.tight_layout()\n",
    "\n",
    "#fig.savefig('non_closed_break.png', dpi=200, bbox_inches='tight', pad_inches=0)"
   ]
  },
  {
   "cell_type": "markdown",
   "metadata": {},
   "source": [
    "That plot is nice but let's superimpose the input on top of the dilated edge in the middle subplot so \n",
    "that we can follow better what happens:"
   ]
  },
  {
   "cell_type": "code",
   "execution_count": 7,
   "metadata": {
    "collapsed": true
   },
   "outputs": [],
   "source": [
    "zero = deepcopy(edges)\n",
    "zero[zero==0] = np.nan"
   ]
  },
  {
   "cell_type": "code",
   "execution_count": 8,
   "metadata": {
    "collapsed": false
   },
   "outputs": [
    {
     "data": {
      "image/png": "[encoded data removed]",
      "text/plain": [
       "<matplotlib.figure.Figure at 0x1115ef290>"
      ]
     },
     "metadata": {},
     "output_type": "display_data"
    }
   ],
   "source": [
    "fig = plt.figure(figsize=(15, 5))\n",
    "ax = fig.add_subplot(1, 3, 1)\n",
    "plt.imshow(edges, cmap='gray', interpolation = 'none')\n",
    "ax.set_xticks([])\n",
    "ax.set_yticks([])\n",
    "\n",
    "ax1 = fig.add_subplot(1, 3, 2)\n",
    "plt.imshow(one, cmap='gray', interpolation = 'none')\n",
    "plt.imshow(zero, cmap='flag', interpolation = 'none')\n",
    "ax1.set_xticks([])\n",
    "ax1.set_yticks([])\n",
    "\n",
    "ax2 = fig.add_subplot(1, 3, 3)\n",
    "plt.imshow(two, cmap='gray', interpolation = 'none')\n",
    "ax2.set_xticks([])\n",
    "ax2.set_yticks([])\n",
    "plt.tight_layout()\n",
    "\n",
    "#fig.savefig('non_closed_break_red.png', dpi=200, bbox_inches='tight', pad_inches=0)"
   ]
  },
  {
   "cell_type": "markdown",
   "metadata": {},
   "source": [
    "We can also superinpose the dilated edge as a background to the final eroded edge in the last subplot on the right. This will take a slightly different manipulation to get the color right."
   ]
  },
  {
   "cell_type": "code",
   "execution_count": 9,
   "metadata": {
    "collapsed": false
   },
   "outputs": [],
   "source": [
    "zero1 = 1-deepcopy(edges)\n",
    "zero1[zero1==1] = np.nan"
   ]
  },
  {
   "cell_type": "markdown",
   "metadata": {},
   "source": [
    "Ah, and some labels to explain the color coding."
   ]
  },
  {
   "cell_type": "code",
   "execution_count": 10,
   "metadata": {
    "collapsed": false
   },
   "outputs": [
    {
     "data": {
      "image/png": "[encoded data removed]",
      "text/plain": [
       "<matplotlib.figure.Figure at 0x1119134d0>"
      ]
     },
     "metadata": {},
     "output_type": "display_data"
    }
   ],
   "source": [
    "fig = plt.figure(figsize=(15, 5))\n",
    "ax = fig.add_subplot(1, 3, 1)\n",
    "plt.imshow(edges, cmap='gray', interpolation = 'none')\n",
    "ax.set_xticks([])\n",
    "ax.set_yticks([])\n",
    "ax.text(0.5, 0.02, 'Original',\n",
    "        verticalalignment='bottom', horizontalalignment='center',\n",
    "        transform=ax.transAxes,\n",
    "        color='w', fontsize=11)\n",
    "\n",
    "ax1 = fig.add_subplot(1, 3, 2)\n",
    "plt.imshow(one, cmap='gray', interpolation = 'none')\n",
    "plt.imshow(zero, cmap='flag', interpolation = 'none')\n",
    "ax1.set_xticks([])\n",
    "ax1.set_yticks([])\n",
    "\n",
    "ax1.text(0.5, 0.02, 'Red = original | white = dilated',\n",
    "        verticalalignment='bottom', horizontalalignment='center',\n",
    "        transform=ax1.transAxes,\n",
    "        color='w', fontsize=11)\n",
    "\n",
    "ax2 = fig.add_subplot(1, 3, 3)\n",
    "plt.imshow(one, cmap='flag_r', interpolation = 'none')\n",
    "plt.imshow(zero1, cmap='gray_r', interpolation = 'none')\n",
    "ax2.set_xticks([])\n",
    "ax2.set_yticks([])\n",
    "\n",
    "ax2.text(0.5, 0.02, 'Red = dilated | white = eroded',\n",
    "        verticalalignment='bottom', horizontalalignment='center',\n",
    "        transform=ax2.transAxes,\n",
    "        color='w', fontsize=11)\n",
    "plt.tight_layout()\n",
    "\n",
    "#fig.savefig('non_closed_break_red_two.png', dpi=200, bbox_inches='tight', pad_inches=0)"
   ]
  },
  {
   "cell_type": "markdown",
   "metadata": {},
   "source": [
    "So we see that the edges do get linked by the dilation, but by only one pixel, which the following erosion then removes.\n",
    "For the edges to stay connected we need to increase the amount of dilation (e.g. the size of the disk to 2 as in [4], or the equivalent two consecutive passes with a disk of size one as in the demonstration below). \n",
    "\n",
    "By the way, if we observed carefully the second panel above we could predict that the dilation with a disk of size two would result in a link 3-pixel wide instead of 1-pixel wide, which the subsequent erosion will not disconnect. "
   ]
  },
  {
   "cell_type": "code",
   "execution_count": 11,
   "metadata": {
    "collapsed": false
   },
   "outputs": [],
   "source": [
    "alpha = dilation(edges, disk(1))\n",
    "bravo = dilation(alpha, disk(1))\n",
    "charlie = erosion(bravo, disk(1))\n",
    "delta = erosion(charlie, disk(1))"
   ]
  },
  {
   "cell_type": "markdown",
   "metadata": {},
   "source": [
    "As before we will need a few manipulations for display purposes."
   ]
  },
  {
   "cell_type": "code",
   "execution_count": 12,
   "metadata": {
    "collapsed": true
   },
   "outputs": [],
   "source": [
    "z = deepcopy(edges)\n",
    "z[z==0] = np.nan\n",
    "\n",
    "alpha1 = deepcopy(alpha)\n",
    "alpha1[alpha1==0] = np.nan\n",
    "\n",
    "bravo1 = 1-deepcopy(alpha)\n",
    "bravo1[bravo1==1] = np.nan\n",
    "\n",
    "charlie1 = 1-deepcopy(delta)\n",
    "charlie1[charlie1==1] = np.nan"
   ]
  },
  {
   "cell_type": "code",
   "execution_count": 13,
   "metadata": {
    "collapsed": false
   },
   "outputs": [
    {
     "data": {
      "image/png": "[encoded data removed]",
      "text/plain": [
       "<matplotlib.figure.Figure at 0x112375a10>"
      ]
     },
     "metadata": {},
     "output_type": "display_data"
    }
   ],
   "source": [
    "fig = plt.figure(figsize=(15, 10))\n",
    "ax = fig.add_subplot(2, 3, 1)\n",
    "plt.imshow(edges, cmap='gray', interpolation = 'none')\n",
    "ax.set_xticks([])\n",
    "ax.set_yticks([])\n",
    "ax.text(0.5, 0.02, 'Original',\n",
    "        verticalalignment='bottom', horizontalalignment='center',\n",
    "        transform=ax.transAxes,\n",
    "        color='w', fontsize=11)\n",
    "\n",
    "ax1 = fig.add_subplot(2, 3, 2)\n",
    "plt.imshow(alpha, cmap='gray', interpolation = 'none')\n",
    "plt.imshow(z, cmap='flag', interpolation = 'none')\n",
    "ax1.set_xticks([])\n",
    "ax1.set_yticks([])\n",
    "\n",
    "ax1.text(0.5, 0.02, 'Red = original | white = dilated 1',\n",
    "        verticalalignment='bottom', horizontalalignment='center',\n",
    "        transform=ax1.transAxes,\n",
    "        color='w', fontsize=11)\n",
    "\n",
    "ax2 = fig.add_subplot(2, 3, 3)\n",
    "plt.imshow(bravo, cmap='gray', interpolation = 'none')\n",
    "plt.imshow(alpha1, cmap='flag', interpolation = 'none')\n",
    "ax2.set_xticks([])\n",
    "ax2.set_yticks([])\n",
    "\n",
    "ax2.text(0.5, 0.02, 'Red = dilated 1 | white = dilated 2',\n",
    "        verticalalignment='bottom', horizontalalignment='center',\n",
    "        transform=ax2.transAxes,\n",
    "        color='w', fontsize=11)\n",
    "\n",
    "\n",
    "ax3 = fig.add_subplot(2, 3, 4)\n",
    "\n",
    "plt.imshow(bravo, cmap='flag_r', interpolation = 'none')\n",
    "plt.imshow(bravo1, cmap='gray_r', interpolation = 'none')\n",
    "\n",
    "ax3.set_xticks([])\n",
    "ax3.set_yticks([])\n",
    "\n",
    "ax3.text(0.5, 0.02, 'Red = dilated 2 | white = eroded 1',\n",
    "        verticalalignment='bottom', horizontalalignment='center',\n",
    "        transform=ax3.transAxes,\n",
    "        color='w', fontsize=11)\n",
    "\n",
    "ax4 = fig.add_subplot(2, 3, 5)\n",
    "\n",
    "plt.imshow(charlie, cmap='flag_r', interpolation = 'none')\n",
    "plt.imshow(charlie1, cmap='gray_r', interpolation = 'none')\n",
    "\n",
    "ax4.set_xticks([])\n",
    "ax4.set_yticks([])\n",
    "\n",
    "ax4.text(0.5, 0.02, 'Red = eroded 1 | white = eroded 2',\n",
    "        verticalalignment='bottom', horizontalalignment='center',\n",
    "        transform=ax4.transAxes,\n",
    "        color='w', fontsize=11)\n",
    "\n",
    "plt.tight_layout()\n",
    "\n",
    "#fig.savefig('closed_break_red.png', dpi=200, bbox_inches='tight', pad_inches=0)"
   ]
  },
  {
   "cell_type": "markdown",
   "metadata": {},
   "source": [
    "A final analogy, to cement the understanding of closing: I like to think of the mechanics of this morphological operation as the combination of peeling back an onion layer by layer (the erosion step), after having added them one on top of the other ourselves (the dilation step).\n",
    "\n",
    "And here's another nice description, with examples: http://homepages.inf.ed.ac.uk/rbf/HIPR2/close.htm"
   ]
  }
 ],
 "metadata": {
  "kernelspec": {
   "display_name": "Python 2",
   "language": "python",
   "name": "python2"
  },
  "language_info": {
   "codemirror_mode": {
    "name": "ipython",
    "version": 2
   },
   "file_extension": ".py",
   "mimetype": "text/x-python",
   "name": "python",
   "nbconvert_exporter": "python",
   "pygments_lexer": "ipython2",
   "version": "2.7.11"
  }
 },
 "nbformat": 4,
 "nbformat_minor": 0
}
